{
 "cells": [
  {
   "cell_type": "markdown",
   "id": "670354e4",
   "metadata": {},
   "source": [
    "1. Даны значения величины заработной платы заемщиков банка (zp) и значения их поведенческого кредитного скоринга (ks): zp = [35, 45, 190, 200, 40, 70, 54, 150, 120, 110], ks = [401, 574, 874, 919, 459, 739, 653, 902, 746, 832]. Используя математические операции, посчитать коэффициенты линейной регрессии, приняв за X заработную плату (то есть, zp - признак), а за y - значения скорингового балла (то есть, ks - целевая переменная). Произвести расчет как с использованием intercept, так и без."
   ]
  },
  {
   "cell_type": "code",
   "execution_count": 83,
   "id": "6cb04aed",
   "metadata": {},
   "outputs": [],
   "source": [
    "import numpy as np"
   ]
  },
  {
   "cell_type": "code",
   "execution_count": 84,
   "id": "6776ba15",
   "metadata": {},
   "outputs": [],
   "source": [
    "x = np.array([35, 45, 190, 200, 40, 70, 54, 150, 120, 110])\n",
    "y = np.array([401, 574, 874, 919, 459, 739, 653, 902, 746, 832])"
   ]
  },
  {
   "cell_type": "code",
   "execution_count": 85,
   "id": "ba508352",
   "metadata": {},
   "outputs": [],
   "source": [
    "n = 10"
   ]
  },
  {
   "cell_type": "code",
   "execution_count": 86,
   "id": "e08d9219",
   "metadata": {},
   "outputs": [
    {
     "data": {
      "text/plain": [
       "2.620538882402765"
      ]
     },
     "execution_count": 86,
     "metadata": {},
     "output_type": "execute_result"
    }
   ],
   "source": [
    "b1 = (np.mean(x * y) - np.mean(x) * np.mean(y))/(np.mean(x**2)-np.mean(x)**2)\n",
    "b1"
   ]
  },
  {
   "cell_type": "code",
   "execution_count": 87,
   "id": "d6737a79",
   "metadata": {},
   "outputs": [
    {
     "data": {
      "text/plain": [
       "444.1773573243596"
      ]
     },
     "execution_count": 87,
     "metadata": {},
     "output_type": "execute_result"
    }
   ],
   "source": [
    "b0 = np.mean(y) - b1 * np.mean(x)\n",
    "b0"
   ]
  },
  {
   "cell_type": "code",
   "execution_count": 88,
   "id": "ff21c56a",
   "metadata": {},
   "outputs": [
    {
     "data": {
      "text/plain": [
       "array([535.89621821, 562.10160703, 942.07974498, 968.2851338 ,\n",
       "       548.99891262, 627.61507909, 585.68645697, 837.25818968,\n",
       "       758.64202321, 732.43663439])"
      ]
     },
     "execution_count": 88,
     "metadata": {},
     "output_type": "execute_result"
    }
   ],
   "source": [
    "y_pred = b0 + b1*x\n",
    "y_pred"
   ]
  },
  {
   "cell_type": "code",
   "execution_count": 89,
   "id": "b9b135d1",
   "metadata": {},
   "outputs": [],
   "source": [
    "from sklearn.linear_model import LinearRegression"
   ]
  },
  {
   "cell_type": "code",
   "execution_count": 106,
   "id": "bf9324ab",
   "metadata": {},
   "outputs": [
    {
     "name": "stdout",
     "output_type": "stream",
     "text": [
      "444.17735732435955\n",
      "[2.62053888]\n"
     ]
    }
   ],
   "source": [
    "model = LinearRegression()\n",
    "x1 = x.reshape(-1,1)\n",
    "regres = model.fit(x1, y)\n",
    "print(regres.intercept_)\n",
    "print(regres.coef_)\n"
   ]
  },
  {
   "cell_type": "markdown",
   "id": "e656f3e5",
   "metadata": {},
   "source": [
    "2. Посчитать коэффициент линейной регрессии при заработной плате (zp), используя градиентный спуск (без intercept)."
   ]
  },
  {
   "cell_type": "code",
   "execution_count": 107,
   "id": "c5ac0e56",
   "metadata": {},
   "outputs": [],
   "source": [
    "def mse_(B1, y = y, x = x, n = 10):\n",
    "    return np.sum((B1*x - y)**2)/n"
   ]
  },
  {
   "cell_type": "code",
   "execution_count": 108,
   "id": "0c54b7b4",
   "metadata": {},
   "outputs": [],
   "source": [
    "alpha = 1e-5\n",
    "B1 = 3\n",
    "n = 10"
   ]
  },
  {
   "cell_type": "code",
   "execution_count": 109,
   "id": "f06f92a7",
   "metadata": {},
   "outputs": [
    {
     "name": "stdout",
     "output_type": "stream",
     "text": [
      "i = 0, B1 = 3.7962380000000002, mse = 116900.89960019532\n",
      "i = 10, B1 = 5.80643653320973, mse = 56612.645360358256\n",
      "i = 20, B1 = 5.886499379350382, mse = 56517.01036213744\n",
      "i = 30, B1 = 5.8896881486317465, mse = 56516.85865675136\n",
      "i = 40, B1 = 5.889815151979989, mse = 56516.85841610174\n",
      "i = 50, B1 = 5.889820210310977, mse = 56516.85841572002\n",
      "i = 60, B1 = 5.88982041177584, mse = 56516.85841571941\n",
      "i = 70, B1 = 5.88982041979985, mse = 56516.8584157194\n",
      "i = 80, B1 = 5.889820420119433, mse = 56516.8584157194\n",
      "i = 90, B1 = 5.889820420132161, mse = 56516.85841571943\n"
     ]
    }
   ],
   "source": [
    "for i in range(100):\n",
    "    B1 -= alpha * (2/n) * np.sum((B1*x-y)*x)\n",
    "    if i % 10 == 0:\n",
    "        print(f'i = {i}, B1 = {B1}, mse = {mse_(B1)}')"
   ]
  },
  {
   "cell_type": "markdown",
   "id": "adf882a1",
   "metadata": {},
   "source": [
    "3. Произвести вычисления как в пункте 2, но с вычислением intercept. Учесть, что изменение коэффициентов должно производиться на каждом шаге одновременно (то есть изменение одного коэффициента не должно влиять на изменение другого во время одной итерации)."
   ]
  },
  {
   "cell_type": "code",
   "execution_count": 158,
   "id": "7b620352",
   "metadata": {},
   "outputs": [],
   "source": [
    "B1 = 2\n",
    "B0 = 400\n",
    "alpha1 = 1e-5"
   ]
  },
  {
   "cell_type": "code",
   "execution_count": 159,
   "id": "f2df78c1",
   "metadata": {},
   "outputs": [
    {
     "name": "stdout",
     "output_type": "stream",
     "text": [
      "i = 0, B1 = 2.26057, B0 = 400.00161356404 mse = 237974.77513025733\n",
      "i = 100000, B1 = 2.816301337591029, B0 = 417.5807953516775 mse = 186657.77965855048\n",
      "i = 200000, B1 = 2.7384098775434267, B0 = 428.16323845756557 mse = 193337.62395658344\n",
      "i = 300000, B1 = 2.691510466213832, B0 = 434.53505831807087 mse = 197440.269996627\n",
      "i = 400000, B1 = 2.6632717506765915, B0 = 438.3716098523928 mse = 199939.75515980733\n",
      "i = 500000, B1 = 2.646268870841146, B0 = 440.68164497543313 mse = 201455.32356222093\n",
      "i = 600000, B1 = 2.636031226628188, B0 = 442.0725456897828 mse = 202371.70804099055\n",
      "i = 700000, B1 = 2.629867014445089, B0 = 442.910024210283 mse = 202924.86734457736\n",
      "i = 800000, B1 = 2.626155466060607, B0 = 443.41428038406036 mse = 203258.43637434923\n",
      "i = 900000, B1 = 2.623920696879909, B0 = 443.7178992621128 mse = 203459.46548459225\n",
      "i = 1000000, B1 = 2.6225751147202723, B0 = 443.9007119432457 mse = 203580.57396879786\n",
      "i = 1100000, B1 = 2.6217649230620053, B0 = 444.0107857192827 mse = 203653.5189468801\n",
      "i = 1200000, B1 = 2.62127709664535, B0 = 444.0770625010589 mse = 203697.4487437021\n",
      "i = 1300000, B1 = 2.6209833703272345, B0 = 444.1169685709703 mse = 203723.90258021335\n",
      "i = 1400000, B1 = 2.6208065140787915, B0 = 444.14099650915404 mse = 203739.83190887672\n",
      "i = 1500000, B1 = 2.620700026744563, B0 = 444.155464027869 mse = 203749.42357032475\n",
      "i = 1600000, B1 = 2.620635909403718, B0 = 444.16417509980397 mse = 203755.198978999\n",
      "i = 1700000, B1 = 2.6205973035598915, B0 = 444.16942014394095 mse = 203758.67647861707\n",
      "i = 1800000, B1 = 2.6205740585039106, B0 = 444.1725782498779 mse = 203760.77034394816\n",
      "i = 1900000, B1 = 2.620560062368273, B0 = 444.1744797845133 mse = 203762.03109333594\n"
     ]
    }
   ],
   "source": [
    "for i in range(2000000):\n",
    "    B1 -= alpha1 * (2/n) * np.sum((B1*x + B0 - y)*x)\n",
    "    B0 -= alpha1 * (2/n) * np.sum((B1*x + B0 - y))\n",
    "    if i % 100000 == 0:\n",
    "        print(f'i = {i}, B1 = {B1}, B0 = {B0} mse = {mse_(B1)}')"
   ]
  },
  {
   "cell_type": "code",
   "execution_count": null,
   "id": "ea410c8f",
   "metadata": {},
   "outputs": [],
   "source": []
  }
 ],
 "metadata": {
  "kernelspec": {
   "display_name": "Python 3 (ipykernel)",
   "language": "python",
   "name": "python3"
  },
  "language_info": {
   "codemirror_mode": {
    "name": "ipython",
    "version": 3
   },
   "file_extension": ".py",
   "mimetype": "text/x-python",
   "name": "python",
   "nbconvert_exporter": "python",
   "pygments_lexer": "ipython3",
   "version": "3.9.7"
  }
 },
 "nbformat": 4,
 "nbformat_minor": 5
}
