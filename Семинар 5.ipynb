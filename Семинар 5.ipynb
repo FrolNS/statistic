{
 "cells": [
  {
   "cell_type": "markdown",
   "id": "42fcf671-b3ab-4fef-b8f4-416ce9090051",
   "metadata": {},
   "source": [
    "1) Когда используется критерий Стьюдента, а когда Z –критерий?"
   ]
  },
  {
   "cell_type": "markdown",
   "id": "37d7832d-3821-4185-b233-e51a2d50839d",
   "metadata": {},
   "source": [
    "Ответ: Критерий Стьюдента используется, когда сигма генеральной совокупности неизвестна, соблюдается нормальность, а также соблюдается равенство дисперсий в сравниваемых группах. Z-критерий используется, когда сигма генеральной совокупности известна, а также соблюдается нормальность."
   ]
  },
  {
   "cell_type": "markdown",
   "id": "d4ec70d4-effa-48ab-8c39-4b14d56a59fb",
   "metadata": {},
   "source": [
    "2. Проведите тест гипотезы. Утверждается, что шарики для подшипников, изготовленные автоматическим станком, имеют средний диаметр 17 мм.\n",
    "\n",
    "Используя односторонний критерий с α=0,05, проверить эту гипотезу, если в выборке из n=100 шариков средний диаметр\n",
    "\n",
    "оказался равным 17.5 мм, а дисперсия известна и равна 4 кв. мм. (Вручную)"
   ]
  },
  {
   "cell_type": "code",
   "execution_count": 2,
   "id": "5a8d8691-4621-4b22-83a0-1fe8af6a8e12",
   "metadata": {},
   "outputs": [],
   "source": [
    "import math"
   ]
  },
  {
   "cell_type": "code",
   "execution_count": 3,
   "id": "2b720ed3-d7cd-4121-8901-030858cedb67",
   "metadata": {},
   "outputs": [],
   "source": [
    "a = 0.05\n",
    "n = 100\n",
    "disp = 4\n",
    "sigma = math.sqrt(disp)\n",
    "mu0 = 17\n",
    "mu1 = 17.5"
   ]
  },
  {
   "cell_type": "markdown",
   "id": "4cc17de3-382c-42ce-85d1-a4b37e3f0e05",
   "metadata": {},
   "source": [
    "H0: mu = mu0\n",
    "\n",
    "H1: mu > mu0\n",
    "\n",
    "Так как сигма генеральной совокупности известна => используем Z-критерий."
   ]
  },
  {
   "cell_type": "code",
   "execution_count": 4,
   "id": "0815823c-ad52-4ab1-a86c-8cdf9ba2cf57",
   "metadata": {},
   "outputs": [
    {
     "data": {
      "text/plain": [
       "2.5"
      ]
     },
     "execution_count": 4,
     "metadata": {},
     "output_type": "execute_result"
    }
   ],
   "source": [
    "zn = (mu1 - mu0)/(sigma / math.sqrt(n))\n",
    "zn"
   ]
  },
  {
   "cell_type": "code",
   "execution_count": 5,
   "id": "3eec2097-c9e4-4465-a980-da78a3f74091",
   "metadata": {},
   "outputs": [],
   "source": [
    "zt = 1.65"
   ]
  },
  {
   "cell_type": "code",
   "execution_count": 6,
   "id": "f6bdbce7-ab8f-47fc-96b8-374cf2490138",
   "metadata": {},
   "outputs": [
    {
     "data": {
      "text/plain": [
       "True"
      ]
     },
     "execution_count": 6,
     "metadata": {},
     "output_type": "execute_result"
    }
   ],
   "source": [
    "zn > zt"
   ]
  },
  {
   "cell_type": "markdown",
   "id": "040bcb65-afd2-4582-af29-725187cc86c4",
   "metadata": {},
   "source": [
    "Гипотеза Н1 верна."
   ]
  },
  {
   "cell_type": "markdown",
   "id": "a4cf81b8-65e0-4ff0-8de1-dd8498a8e87e",
   "metadata": {},
   "source": [
    "3. Проведите тест гипотезы. Продавец утверждает, что средний вес пачки печенья составляет 200 г.\n",
    "\n",
    "Из партии извлечена выборка из 10 пачек. Вес каждой пачки составляет:\n",
    "\n",
    "202, 203, 199, 197, 195, 201, 200, 204, 194, 190.\n",
    "\n",
    "Известно, что их веса распределены нормально.\n",
    "\n",
    "Верно ли утверждение продавца, если учитывать, что доверительная вероятность равна 99%? (Провести двусторонний тест.)"
   ]
  },
  {
   "cell_type": "code",
   "execution_count": 7,
   "id": "883950c5-5b9c-46d1-b145-7b1898700bb1",
   "metadata": {},
   "outputs": [],
   "source": [
    "import numpy as np"
   ]
  },
  {
   "cell_type": "code",
   "execution_count": 37,
   "id": "c003f338-d9e5-4667-9c59-1ac8cafba4a0",
   "metadata": {},
   "outputs": [],
   "source": [
    "n = 10\n",
    "a = 0.01\n",
    "m = np.array([202, 203, 199, 197, 195, 201, 200, 204, 194, 190])\n",
    "mu0 = 200"
   ]
  },
  {
   "cell_type": "code",
   "execution_count": 24,
   "id": "74dec328-d284-4d73-b08b-3b0befc40c6e",
   "metadata": {},
   "outputs": [
    {
     "data": {
      "text/plain": [
       "198.5"
      ]
     },
     "execution_count": 24,
     "metadata": {},
     "output_type": "execute_result"
    }
   ],
   "source": [
    "mu1 = np.mean(m)\n",
    "mu1"
   ]
  },
  {
   "cell_type": "code",
   "execution_count": 33,
   "id": "53e839e6-521f-4b9f-8429-4305fd3f5071",
   "metadata": {},
   "outputs": [
    {
     "data": {
      "text/plain": [
       "19.833333333333332"
      ]
     },
     "execution_count": 33,
     "metadata": {},
     "output_type": "execute_result"
    }
   ],
   "source": [
    "s2 = sum((i - mu1)**2 for i in m)/(n - 1)\n",
    "s2"
   ]
  },
  {
   "cell_type": "code",
   "execution_count": 36,
   "id": "117c9698-4224-4a19-af3a-2ea0c44a96c8",
   "metadata": {},
   "outputs": [
    {
     "data": {
      "text/plain": [
       "4.453463071962462"
      ]
     },
     "execution_count": 36,
     "metadata": {},
     "output_type": "execute_result"
    }
   ],
   "source": [
    "s = math.sqrt(s2)\n",
    "s\n"
   ]
  },
  {
   "cell_type": "markdown",
   "id": "9f163223-dc79-4572-a04c-d287ad65b010",
   "metadata": {},
   "source": [
    "H0: mu = 200\n",
    "\n",
    "H1: mu != 200\n",
    "\n",
    "Так как сигма генеральной совокупности неизвестна => используем критерий Стьюдента.\n"
   ]
  },
  {
   "cell_type": "code",
   "execution_count": 38,
   "id": "0cdb9129-371b-4865-a340-50c9378b79c3",
   "metadata": {},
   "outputs": [
    {
     "data": {
      "text/plain": [
       "-1.0651074037450896"
      ]
     },
     "execution_count": 38,
     "metadata": {},
     "output_type": "execute_result"
    }
   ],
   "source": [
    "tn = (mu1 - mu0) / (s / np.sqrt(n))\n",
    "tn"
   ]
  },
  {
   "cell_type": "code",
   "execution_count": 40,
   "id": "b1d6c778-d8ae-499e-88aa-68ffdbbeb79b",
   "metadata": {},
   "outputs": [],
   "source": [
    "tt = 3.25"
   ]
  },
  {
   "cell_type": "code",
   "execution_count": 41,
   "id": "ddb01bbb-d2da-410f-a17a-adca451fee9b",
   "metadata": {},
   "outputs": [
    {
     "data": {
      "text/plain": [
       "True"
      ]
     },
     "execution_count": 41,
     "metadata": {},
     "output_type": "execute_result"
    }
   ],
   "source": [
    "np.abs(tn) < tt"
   ]
  },
  {
   "cell_type": "markdown",
   "id": "cfe019e8-5d31-4125-ba5c-04400740eb4d",
   "metadata": {},
   "source": [
    "Следовательно, нулевая гипотеза верна."
   ]
  },
  {
   "cell_type": "markdown",
   "id": "12e3f084-1906-473b-a798-57680954b1d9",
   "metadata": {},
   "source": [
    "4. Есть ли статистически значимые различия в росте дочерей?\n",
    "\n",
    "Рост матерей 172, 177, 158, 170, 178,175, 164, 160, 169\n",
    "\n",
    "Рост взрослых дочерей: 173, 175, 162, 174, 175, 168, 155, 170, 160"
   ]
  },
  {
   "cell_type": "code",
   "execution_count": 42,
   "id": "6fd54cf0-901d-4572-bc60-0615b68f8639",
   "metadata": {},
   "outputs": [],
   "source": [
    "m = np.array([172, 177, 158, 170, 178,175, 164, 160, 169])\n",
    "d = np.array([173, 175, 162, 174, 175, 168, 155, 170, 160])"
   ]
  },
  {
   "cell_type": "markdown",
   "id": "27ed878c-f14c-49bc-9775-b714f71feb3e",
   "metadata": {},
   "source": [
    "H1: mu = mu1\n",
    "\n",
    "H2: mu != mu1"
   ]
  },
  {
   "cell_type": "code",
   "execution_count": 44,
   "id": "b1602da9-8362-40ac-b5a9-08bd3e1e9003",
   "metadata": {},
   "outputs": [
    {
     "data": {
      "text/plain": [
       "Ttest_relResult(statistic=0.559522990335608, pvalue=0.5911212354055175)"
      ]
     },
     "execution_count": 44,
     "metadata": {},
     "output_type": "execute_result"
    }
   ],
   "source": [
    "stats.ttest_rel(m, d)"
   ]
  },
  {
   "cell_type": "markdown",
   "id": "6003e2ac-113f-49b7-acfc-6648217fcf68",
   "metadata": {},
   "source": [
    "Так как pvalue = 0.59 и больше альфа = 0.05 => принимаем нулевую гипотезу"
   ]
  },
  {
   "cell_type": "code",
   "execution_count": null,
   "id": "85250ad2-bc0e-46d0-8365-e3bc38700e47",
   "metadata": {},
   "outputs": [],
   "source": []
  }
 ],
 "metadata": {
  "kernelspec": {
   "display_name": "Python 3 (ipykernel)",
   "language": "python",
   "name": "python3"
  },
  "language_info": {
   "codemirror_mode": {
    "name": "ipython",
    "version": 3
   },
   "file_extension": ".py",
   "mimetype": "text/x-python",
   "name": "python",
   "nbconvert_exporter": "python",
   "pygments_lexer": "ipython3",
   "version": "3.9.13"
  }
 },
 "nbformat": 4,
 "nbformat_minor": 5
}
