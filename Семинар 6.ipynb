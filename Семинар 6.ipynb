{
 "cells": [
  {
   "cell_type": "markdown",
   "id": "8c513e04-4ff6-447c-9f9d-540c92d5d253",
   "metadata": {},
   "source": [
    " 1. Известно, что генеральная совокупность распределена нормально со средним квадратическим отклонением, равным 16.\n",
    "\n",
    "Найти доверительный интервал для оценки математического ожидания a с надежностью 0.95, если выборочная средняя M = 80, а объем выборки n = 256."
   ]
  },
  {
   "cell_type": "code",
   "execution_count": 5,
   "id": "592055f0-89f5-4765-8e16-6d3cf8b8c12f",
   "metadata": {},
   "outputs": [],
   "source": [
    "import scipy.stats as stats\n",
    "import math"
   ]
  },
  {
   "cell_type": "code",
   "execution_count": 15,
   "id": "a85c82ae-6dbd-4d04-bf2f-b3be9e8cb88c",
   "metadata": {},
   "outputs": [],
   "source": [
    "M = 80\n",
    "n = 256\n",
    "sigma = 16"
   ]
  },
  {
   "cell_type": "code",
   "execution_count": 16,
   "id": "540e6ae4-ad58-49c7-b7fa-1342b26e291b",
   "metadata": {},
   "outputs": [
    {
     "data": {
      "text/plain": [
       "1.959963984540054"
      ]
     },
     "execution_count": 16,
     "metadata": {},
     "output_type": "execute_result"
    }
   ],
   "source": [
    "z = stats.norm.ppf(0.975)\n",
    "z"
   ]
  },
  {
   "cell_type": "code",
   "execution_count": 19,
   "id": "ce78d9a8-39f6-49d5-a70d-2b9cba5e70d2",
   "metadata": {},
   "outputs": [],
   "source": [
    "X_1 = M - (z * sigma/math.sqrt(n))"
   ]
  },
  {
   "cell_type": "code",
   "execution_count": 20,
   "id": "292d54b9-8f36-453e-9c62-769e8d3a878f",
   "metadata": {},
   "outputs": [],
   "source": [
    "X_2 = M + (z * sigma/math.sqrt(n))"
   ]
  },
  {
   "cell_type": "code",
   "execution_count": 23,
   "id": "da756a8a-d31c-4296-b695-dc3029e13d7d",
   "metadata": {},
   "outputs": [
    {
     "data": {
      "text/plain": [
       "'[78.04003601545995; 81.95996398454005]'"
      ]
     },
     "execution_count": 23,
     "metadata": {},
     "output_type": "execute_result"
    }
   ],
   "source": [
    "f\"[{X_1}; {X_2}]\""
   ]
  },
  {
   "cell_type": "markdown",
   "id": "ca392466-92c0-476e-a1ce-fd377a646ff5",
   "metadata": {},
   "source": [
    " 2. В результате 10 независимых измерений некоторой величины X, выполненных с одинаковой точностью, получены опытные данные:\n",
    "\n",
    "6.9, 6.1, 6.2, 6.8, 7.5, 6.3, 6.4, 6.9, 6.7, 6.1\n",
    "\n",
    "Предполагая, что результаты измерений подчинены нормальному закону распределения вероятностей, оценить истинное значение величины X при помощи доверительного интервала, покрывающего это значение с доверительной вероятностью 0,95."
   ]
  },
  {
   "cell_type": "code",
   "execution_count": 24,
   "id": "066730d4-c397-4f7f-b3c0-befe6555a098",
   "metadata": {},
   "outputs": [],
   "source": [
    "import numpy as np"
   ]
  },
  {
   "cell_type": "code",
   "execution_count": 25,
   "id": "59c6ca16-b09b-43c4-8465-12518f8bed70",
   "metadata": {},
   "outputs": [],
   "source": [
    "x = np.array([6.9, 6.1, 6.2, 6.8, 7.5, 6.3, 6.4, 6.9, 6.7, 6.1])"
   ]
  },
  {
   "cell_type": "code",
   "execution_count": 29,
   "id": "e5c098f6-2ce0-4d63-a221-c266f38ef528",
   "metadata": {},
   "outputs": [
    {
     "data": {
      "text/plain": [
       "6.590000000000001"
      ]
     },
     "execution_count": 29,
     "metadata": {},
     "output_type": "execute_result"
    }
   ],
   "source": [
    "x_mean = np.mean(x)\n",
    "x_mean"
   ]
  },
  {
   "cell_type": "code",
   "execution_count": 37,
   "id": "6aa92fa6-47b7-423d-88ee-ead15045d0f0",
   "metadata": {},
   "outputs": [
    {
     "data": {
      "text/plain": [
       "0.2032222222222223"
      ]
     },
     "execution_count": 37,
     "metadata": {},
     "output_type": "execute_result"
    }
   ],
   "source": [
    "D = np.var(x, ddof = 1)\n",
    "D"
   ]
  },
  {
   "cell_type": "code",
   "execution_count": 38,
   "id": "f3555af9-0145-4ac9-aa12-5220036b112e",
   "metadata": {},
   "outputs": [
    {
     "data": {
      "text/plain": [
       "2.2621571627409915"
      ]
     },
     "execution_count": 38,
     "metadata": {},
     "output_type": "execute_result"
    }
   ],
   "source": [
    "t = stats.t.ppf(0.975, 9)\n",
    "t"
   ]
  },
  {
   "cell_type": "code",
   "execution_count": 39,
   "id": "7d530501-01b7-4c40-9130-210bc0f19084",
   "metadata": {},
   "outputs": [
    {
     "data": {
      "text/plain": [
       "'[6.267515851415713; 6.912484148584288]'"
      ]
     },
     "execution_count": 39,
     "metadata": {},
     "output_type": "execute_result"
    }
   ],
   "source": [
    "f\"[{x_mean - (t * np.sqrt(D/10))}; {x_mean + (t * np.sqrt(D/10))}]\""
   ]
  },
  {
   "cell_type": "markdown",
   "id": "dd1d060f-aff0-4e42-ae86-128ed5543291",
   "metadata": {},
   "source": [
    "3. Рост дочерей 175, 167, 154, 174, 178, 148, 160, 167, 169, 170\n",
    "\n",
    "Рост матерей  178, 165, 165, 173, 168, 155, 160, 164, 178, 175\n",
    "\n",
    "Используя эти данные построить 95% доверительный интервал для разности среднего роста родителей и детей."
   ]
  },
  {
   "cell_type": "code",
   "execution_count": 40,
   "id": "99528424-1013-4787-9951-7cb2dfd95690",
   "metadata": {},
   "outputs": [],
   "source": [
    "m = np.array([178, 165, 165, 173, 168, 155, 160, 164, 178, 175])\n",
    "d = np.array([175, 167, 154, 174, 178, 148, 160, 167, 169, 170])"
   ]
  },
  {
   "cell_type": "code",
   "execution_count": 41,
   "id": "789fb9e1-66cf-492d-85f1-5fc29cc528fb",
   "metadata": {},
   "outputs": [
    {
     "data": {
      "text/plain": [
       "168.1"
      ]
     },
     "execution_count": 41,
     "metadata": {},
     "output_type": "execute_result"
    }
   ],
   "source": [
    "m_mean = np.mean(m)\n",
    "m_mean"
   ]
  },
  {
   "cell_type": "code",
   "execution_count": 42,
   "id": "7a7f4e74-21fd-40b7-8377-387f15af635a",
   "metadata": {},
   "outputs": [
    {
     "data": {
      "text/plain": [
       "166.2"
      ]
     },
     "execution_count": 42,
     "metadata": {},
     "output_type": "execute_result"
    }
   ],
   "source": [
    "d_mean = np.mean(d)\n",
    "d_mean"
   ]
  },
  {
   "cell_type": "code",
   "execution_count": 45,
   "id": "d951d937-9c16-41cf-bd5c-15cacec1bbf4",
   "metadata": {},
   "outputs": [],
   "source": [
    "m_l = len(m)\n",
    "d_l = len(d)"
   ]
  },
  {
   "cell_type": "code",
   "execution_count": 47,
   "id": "71aa87a6-e5e1-43f1-8d12-68d085817b92",
   "metadata": {},
   "outputs": [
    {
     "data": {
      "text/plain": [
       "1.9000000000000057"
      ]
     },
     "execution_count": 47,
     "metadata": {},
     "output_type": "execute_result"
    }
   ],
   "source": [
    "delta = m_mean - d_mean\n",
    "delta"
   ]
  },
  {
   "cell_type": "code",
   "execution_count": 48,
   "id": "48acfdcf-4394-452c-ac2e-b0c5c2f50831",
   "metadata": {},
   "outputs": [
    {
     "data": {
      "text/plain": [
       "75.58333333333334"
      ]
     },
     "execution_count": 48,
     "metadata": {},
     "output_type": "execute_result"
    }
   ],
   "source": [
    "D1 = np.var(m, ddof = 1)\n",
    "D2 = np.var(d, ddof = 1)\n",
    "D = (D1 + D2)/2\n",
    "D"
   ]
  },
  {
   "cell_type": "code",
   "execution_count": 49,
   "id": "49b4701a-1c5a-4876-8915-beb325115a00",
   "metadata": {},
   "outputs": [
    {
     "data": {
      "text/plain": [
       "3.8880157750022915"
      ]
     },
     "execution_count": 49,
     "metadata": {},
     "output_type": "execute_result"
    }
   ],
   "source": [
    "SE = np.sqrt(D/m_l + D/d_l)\n",
    "SE"
   ]
  },
  {
   "cell_type": "code",
   "execution_count": 50,
   "id": "57633d53-c842-4d98-b0b3-b898ccd677f8",
   "metadata": {},
   "outputs": [
    {
     "data": {
      "text/plain": [
       "2.10092204024096"
      ]
     },
     "execution_count": 50,
     "metadata": {},
     "output_type": "execute_result"
    }
   ],
   "source": [
    "t = stats.t.ppf(0.975, 18)\n",
    "t"
   ]
  },
  {
   "cell_type": "code",
   "execution_count": 53,
   "id": "7a52a998-c001-43ff-a5bc-b274cae8c7c5",
   "metadata": {},
   "outputs": [],
   "source": [
    "d_1 = delta - (t * SE)"
   ]
  },
  {
   "cell_type": "code",
   "execution_count": 54,
   "id": "da1c7164-77e7-4f06-b5df-e279c1b991db",
   "metadata": {},
   "outputs": [],
   "source": [
    "d_2 = delta + (t * SE)"
   ]
  },
  {
   "cell_type": "code",
   "execution_count": 56,
   "id": "aa906903-9cda-4b21-9f30-e48e5b440e16",
   "metadata": {},
   "outputs": [
    {
     "data": {
      "text/plain": [
       "'[-6.268418034506846; 10.068418034506857]'"
      ]
     },
     "execution_count": 56,
     "metadata": {},
     "output_type": "execute_result"
    }
   ],
   "source": [
    "f\"[{d_1}; {d_2}]\""
   ]
  },
  {
   "cell_type": "code",
   "execution_count": null,
   "id": "ead7ede6-9171-4cfc-974f-ed63f60517bc",
   "metadata": {},
   "outputs": [],
   "source": []
  }
 ],
 "metadata": {
  "kernelspec": {
   "display_name": "Python 3 (ipykernel)",
   "language": "python",
   "name": "python3"
  },
  "language_info": {
   "codemirror_mode": {
    "name": "ipython",
    "version": 3
   },
   "file_extension": ".py",
   "mimetype": "text/x-python",
   "name": "python",
   "nbconvert_exporter": "python",
   "pygments_lexer": "ipython3",
   "version": "3.8.2"
  }
 },
 "nbformat": 4,
 "nbformat_minor": 5
}
