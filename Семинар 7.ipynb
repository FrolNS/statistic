{
 "cells": [
  {
   "cell_type": "markdown",
   "id": "b273e486",
   "metadata": {},
   "source": [
    "1-4 задачи решать с помощью функций, 5ю вручную\n",
    "\n",
    "Выбрать тест и проверить, есть  ли различия между выборками:\n",
    "\n",
    " 1. Даны две  независимые выборки. Не соблюдается условие нормальности\n",
    "\n",
    "x1  380,420, 290\n",
    "\n",
    "y1 140,360,200,900\n",
    "\n",
    "Сделайте вывод по результатам, полученным с помощью функции"
   ]
  },
  {
   "cell_type": "code",
   "execution_count": 1,
   "id": "a02947af",
   "metadata": {},
   "outputs": [],
   "source": [
    "import numpy as np\n",
    "import scipy.stats as stats"
   ]
  },
  {
   "cell_type": "code",
   "execution_count": 13,
   "id": "77eed4e0",
   "metadata": {},
   "outputs": [],
   "source": [
    "x1 = np.array([80,420, 290])\n",
    "y1 = np.array([140,360,200,900])\n",
    "alpha1 = 0.05"
   ]
  },
  {
   "cell_type": "code",
   "execution_count": 14,
   "id": "5bc71380",
   "metadata": {},
   "outputs": [
    {
     "data": {
      "text/plain": [
       "MannwhitneyuResult(statistic=5.0, pvalue=0.8571428571428571)"
      ]
     },
     "execution_count": 14,
     "metadata": {},
     "output_type": "execute_result"
    }
   ],
   "source": [
    "stats.mannwhitneyu(x1, y1)"
   ]
  },
  {
   "cell_type": "markdown",
   "id": "c2ab2526",
   "metadata": {},
   "source": [
    "Так как pvalue > alpha => Статистически значимых различий нет"
   ]
  },
  {
   "cell_type": "markdown",
   "id": "39ed5b45",
   "metadata": {},
   "source": [
    "2. Исследовалось влияние препарата на уровень давления пациентов. Сначала измерялось давление до приема препарата, потом через 10 минут и через 30 минут. Есть ли статистически значимые различия?\n",
    "\n",
    "1е измерение до приема препарата: 150, 160, 165, 145, 155\n",
    "\n",
    "2е измерение через 10 минут: 140, 155, 150,  130, 135\n",
    "\n",
    "3е измерение через 30 минут: 130, 130, 120, 130, 125"
   ]
  },
  {
   "cell_type": "code",
   "execution_count": 15,
   "id": "593d5eb7",
   "metadata": {},
   "outputs": [],
   "source": [
    "first_measure = np.array([150, 160, 165, 145, 155])\n",
    "second_measure = np.array([140, 155, 150, 130, 135])\n",
    "third_measure = np.array([130, 130, 120, 130, 125])\n",
    "alpha2 = 0.05"
   ]
  },
  {
   "cell_type": "code",
   "execution_count": 16,
   "id": "67f03a61",
   "metadata": {},
   "outputs": [
    {
     "data": {
      "text/plain": [
       "FriedmanchisquareResult(statistic=9.578947368421062, pvalue=0.00831683351100441)"
      ]
     },
     "execution_count": 16,
     "metadata": {},
     "output_type": "execute_result"
    }
   ],
   "source": [
    "stats.friedmanchisquare(first_measure, second_measure, third_measure)"
   ]
  },
  {
   "cell_type": "markdown",
   "id": "c6cc80ec",
   "metadata": {},
   "source": [
    "Так как pvalue < alpha => Статистически значимые различия есть"
   ]
  },
  {
   "cell_type": "markdown",
   "id": "b750ea8f",
   "metadata": {},
   "source": [
    "3. Сравните 1 и 2 е измерения, предполагая, что 3го измерения через 30 минут не было."
   ]
  },
  {
   "cell_type": "code",
   "execution_count": 17,
   "id": "32f504b7",
   "metadata": {},
   "outputs": [],
   "source": [
    "alpha3 = 0.05"
   ]
  },
  {
   "cell_type": "code",
   "execution_count": 18,
   "id": "193d4566",
   "metadata": {},
   "outputs": [
    {
     "data": {
      "text/plain": [
       "WilcoxonResult(statistic=0.0, pvalue=0.0625)"
      ]
     },
     "execution_count": 18,
     "metadata": {},
     "output_type": "execute_result"
    }
   ],
   "source": [
    "stats.wilcoxon(first_measure, second_measure)"
   ]
  },
  {
   "cell_type": "markdown",
   "id": "283eb23d",
   "metadata": {},
   "source": [
    "Так как pvalue > alpha => Статистически значимых различий нет"
   ]
  },
  {
   "cell_type": "markdown",
   "id": "4a978911",
   "metadata": {},
   "source": [
    "4. Даны 3 группы  учеников плавания. Сделайте вывод по различиям.\n",
    "\n",
    "В 1 группе время на дистанцию 50 м составляют:\n",
    "\n",
    "56, 60, 62, 55, 71, 67, 59, 58, 64, 67\n",
    "\n",
    "Вторая группа : 57, 58, 69, 48, 72, 70, 68, 71, 50, 53\n",
    "\n",
    "Третья группа: 57, 67, 49, 48, 47, 55, 66, 51, 54"
   ]
  },
  {
   "cell_type": "code",
   "execution_count": 22,
   "id": "ba7303d2",
   "metadata": {},
   "outputs": [],
   "source": [
    "first_gr = np.array([56, 60, 62, 55, 71, 67, 59, 58, 64, 67])\n",
    "sec_gr = np.array([57, 58, 69, 48, 72, 70, 68, 71, 50, 53])\n",
    "third_gr = np.array([57, 67, 49, 48, 47, 55, 66, 51, 54])\n",
    "alpha4 = 0.05"
   ]
  },
  {
   "cell_type": "code",
   "execution_count": 23,
   "id": "f20a05a8",
   "metadata": {},
   "outputs": [
    {
     "data": {
      "text/plain": [
       "KruskalResult(statistic=5.465564058257224, pvalue=0.0650380998590494)"
      ]
     },
     "execution_count": 23,
     "metadata": {},
     "output_type": "execute_result"
    }
   ],
   "source": [
    "stats.kruskal(first_gr, sec_gr, third_gr)"
   ]
  },
  {
   "cell_type": "markdown",
   "id": "312ba4c5",
   "metadata": {},
   "source": [
    "Так как pvalue > alpha => Статистически значимых различий нет"
   ]
  },
  {
   "cell_type": "markdown",
   "id": "79bfcc4b",
   "metadata": {},
   "source": [
    "5. Заявляется, что партия изготавливается со средним арифметическим 2,5 см. Проверить данную гипотезу, если известно, что размеры изделий подчинены нормальному закону распределения. Объем выборки 10, уровень статистической значимости 5%\n",
    "\n",
    "2.51, 2.35, 2.74, 2.56, 2.40, 2.36, 2.65, 2.7, 2.67, 2.34"
   ]
  },
  {
   "cell_type": "code",
   "execution_count": 25,
   "id": "6f51ab6c",
   "metadata": {},
   "outputs": [],
   "source": [
    "part = np.array([2.51, 2.35, 2.74, 2.56, 2.40, 2.36, 2.65, 2.7, 2.67, 2.34])\n",
    "alpha5 = 0.05\n",
    "n = 10\n",
    "m = 2.5"
   ]
  },
  {
   "cell_type": "code",
   "execution_count": 30,
   "id": "62aa688f",
   "metadata": {},
   "outputs": [],
   "source": [
    "mean_part = part.mean()"
   ]
  },
  {
   "cell_type": "markdown",
   "id": "baee359f",
   "metadata": {},
   "source": [
    "Используем критерий Стьюдента, так как дисперсия ген. совокупности неизвестна"
   ]
  },
  {
   "cell_type": "code",
   "execution_count": 31,
   "id": "6167227d",
   "metadata": {},
   "outputs": [
    {
     "data": {
      "text/plain": [
       "0.5630613661802959"
      ]
     },
     "execution_count": 31,
     "metadata": {},
     "output_type": "execute_result"
    }
   ],
   "source": [
    "t = (mean_part - m) / (np.std(part, ddof = 1) / np.sqrt(n))\n",
    "t"
   ]
  },
  {
   "cell_type": "code",
   "execution_count": 34,
   "id": "4759f98b",
   "metadata": {},
   "outputs": [
    {
     "data": {
      "text/plain": [
       "Ttest_1sampResult(statistic=-150.2569474321155, pvalue=1.302122012238181e-16)"
      ]
     },
     "execution_count": 34,
     "metadata": {},
     "output_type": "execute_result"
    }
   ],
   "source": [
    "stats.ttest_1samp(part, 10)"
   ]
  },
  {
   "cell_type": "code",
   "execution_count": 36,
   "id": "ea287def",
   "metadata": {},
   "outputs": [
    {
     "data": {
      "text/plain": [
       "2.2621571627409915"
      ]
     },
     "execution_count": 36,
     "metadata": {},
     "output_type": "execute_result"
    }
   ],
   "source": [
    "t1 = stats.t.ppf(0.975, 9)\n",
    "t1"
   ]
  },
  {
   "cell_type": "code",
   "execution_count": 37,
   "id": "9d9ba1c9",
   "metadata": {},
   "outputs": [
    {
     "data": {
      "text/plain": [
       "True"
      ]
     },
     "execution_count": 37,
     "metadata": {},
     "output_type": "execute_result"
    }
   ],
   "source": [
    "t < t1"
   ]
  },
  {
   "cell_type": "markdown",
   "id": "8021bb34",
   "metadata": {},
   "source": [
    "=> Статистически значимых различий нет"
   ]
  },
  {
   "cell_type": "code",
   "execution_count": null,
   "id": "0acf9a9c",
   "metadata": {},
   "outputs": [],
   "source": []
  }
 ],
 "metadata": {
  "kernelspec": {
   "display_name": "Python 3 (ipykernel)",
   "language": "python",
   "name": "python3"
  },
  "language_info": {
   "codemirror_mode": {
    "name": "ipython",
    "version": 3
   },
   "file_extension": ".py",
   "mimetype": "text/x-python",
   "name": "python",
   "nbconvert_exporter": "python",
   "pygments_lexer": "ipython3",
   "version": "3.8.2"
  }
 },
 "nbformat": 4,
 "nbformat_minor": 5
}
