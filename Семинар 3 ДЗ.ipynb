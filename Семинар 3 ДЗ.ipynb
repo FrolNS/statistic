{
 "cells": [
  {
   "cell_type": "markdown",
   "id": "ecfcab2f-4bb3-4605-bf9c-917a327c4be7",
   "metadata": {},
   "source": [
    "Даны значения зарплат из выборки выпускников: 100, 80, 75, 77, 89, 33, 45, 25, 65, 17, 30, 24, 57, 55, 70, 75, 65, 84, 90, 150. Посчитать (желательно без использования статистических методов наподобие std, var, mean) среднее арифметическое, среднее квадратичное отклонение, смещенную и несмещенную оценки дисперсий для данной выборки."
   ]
  },
  {
   "cell_type": "code",
   "execution_count": 18,
   "id": "38f8032e-4751-4e5e-a7e0-1a6e564c4fea",
   "metadata": {},
   "outputs": [],
   "source": [
    "import numpy as np\n",
    "import math"
   ]
  },
  {
   "cell_type": "code",
   "execution_count": 19,
   "id": "496a258b-9ee6-406c-8ae5-b856ec39d505",
   "metadata": {},
   "outputs": [
    {
     "data": {
      "text/plain": [
       "array([100,  80,  75,  77,  89,  33,  45,  25,  65,  17,  30,  24,  57,\n",
       "        55,  70,  75,  65,  84,  90, 150])"
      ]
     },
     "execution_count": 19,
     "metadata": {},
     "output_type": "execute_result"
    }
   ],
   "source": [
    "x = np.array([100, 80, 75, 77, 89, 33, 45, 25, 65, 17, 30, 24, 57, 55, 70, 75, 65, 84, 90, 150])\n",
    "x"
   ]
  },
  {
   "cell_type": "code",
   "execution_count": 20,
   "id": "23714f2a-8f70-4032-abfb-15f8f0d36a70",
   "metadata": {},
   "outputs": [
    {
     "data": {
      "text/plain": [
       "array([ 17,  24,  25,  30,  33,  45,  55,  57,  65,  65,  70,  75,  75,\n",
       "        77,  80,  84,  89,  90, 100, 150])"
      ]
     },
     "execution_count": 20,
     "metadata": {},
     "output_type": "execute_result"
    }
   ],
   "source": [
    "x.sort()\n",
    "x"
   ]
  },
  {
   "cell_type": "code",
   "execution_count": 21,
   "id": "ce965f8b-fd67-4d2b-9c95-c7d6a68061f9",
   "metadata": {},
   "outputs": [
    {
     "data": {
      "text/plain": [
       "65.3"
      ]
     },
     "execution_count": 21,
     "metadata": {},
     "output_type": "execute_result"
    }
   ],
   "source": [
    "mean = sum(x)/len(x)\n",
    "mean"
   ]
  },
  {
   "cell_type": "code",
   "execution_count": 22,
   "id": "727c4341-ef64-4aba-8809-cc2ed064e540",
   "metadata": {},
   "outputs": [
    {
     "data": {
      "text/plain": [
       "65.3"
      ]
     },
     "execution_count": 22,
     "metadata": {},
     "output_type": "execute_result"
    }
   ],
   "source": [
    "np.mean(x)"
   ]
  },
  {
   "cell_type": "code",
   "execution_count": 23,
   "id": "ac9098d3-b89b-44dd-8dff-0830cb1575ed",
   "metadata": {},
   "outputs": [
    {
     "data": {
      "text/plain": [
       "950.11"
      ]
     },
     "execution_count": 23,
     "metadata": {},
     "output_type": "execute_result"
    }
   ],
   "source": [
    "var = sum((l-mean)**2 for l in x) / len(x)\n",
    "var"
   ]
  },
  {
   "cell_type": "code",
   "execution_count": 24,
   "id": "f819228c-38af-4aae-b337-0f6c4aacc96c",
   "metadata": {},
   "outputs": [
    {
     "data": {
      "text/plain": [
       "30.823854398825596"
      ]
     },
     "execution_count": 24,
     "metadata": {},
     "output_type": "execute_result"
    }
   ],
   "source": [
    "sko = math.sqrt(var)\n",
    "sko"
   ]
  },
  {
   "cell_type": "code",
   "execution_count": 25,
   "id": "5df6dc22-d8f2-4a19-8916-bc209777a799",
   "metadata": {},
   "outputs": [
    {
     "data": {
      "text/plain": [
       "30.823854398825592"
      ]
     },
     "execution_count": 25,
     "metadata": {},
     "output_type": "execute_result"
    }
   ],
   "source": [
    "np.std(x)"
   ]
  },
  {
   "cell_type": "code",
   "execution_count": 26,
   "id": "9436c822-ae0d-477c-8c2b-5bd923e1da01",
   "metadata": {},
   "outputs": [
    {
     "data": {
      "text/plain": [
       "950.1099999999999"
      ]
     },
     "execution_count": 26,
     "metadata": {},
     "output_type": "execute_result"
    }
   ],
   "source": [
    "np.var(x)"
   ]
  },
  {
   "cell_type": "code",
   "execution_count": 28,
   "id": "8def3ea1-bf5a-4c33-a816-7186416caa93",
   "metadata": {},
   "outputs": [
    {
     "data": {
      "text/plain": [
       "1000.1157894736842"
      ]
     },
     "execution_count": 28,
     "metadata": {},
     "output_type": "execute_result"
    }
   ],
   "source": [
    "var1 = sum((l-mean)**2 for l in x) / (len(x) - 1)\n",
    "var1"
   ]
  },
  {
   "cell_type": "code",
   "execution_count": 29,
   "id": "3219aedc-12c4-449d-9fd0-dd04d77a5d61",
   "metadata": {},
   "outputs": [
    {
     "data": {
      "text/plain": [
       "1000.115789473684"
      ]
     },
     "execution_count": 29,
     "metadata": {},
     "output_type": "execute_result"
    }
   ],
   "source": [
    "np.var(x, ddof = 1)"
   ]
  },
  {
   "cell_type": "markdown",
   "id": "dff3ae93-8d94-4d18-86e3-0a60ecdb30a3",
   "metadata": {},
   "source": [
    "В первом ящике находится 8 мячей, из которых 5 - белые. Во втором ящике - 12 мячей, из которых 5 белых. Из первого ящика вытаскивают случайным образом два мяча, из второго - 4. Какова вероятность того, что 3 мяча белые?"
   ]
  },
  {
   "cell_type": "code",
   "execution_count": 31,
   "id": "831a5616-466f-4ccf-a70a-3d14b250d832",
   "metadata": {},
   "outputs": [],
   "source": [
    "from math import factorial as fact\n",
    "\n",
    "def comb(k, n):\n",
    "    return fact(n) / (fact(k) * fact(n - k))"
   ]
  },
  {
   "cell_type": "code",
   "execution_count": 34,
   "id": "50d3fcbd-b344-4c69-b800-848f22d9f9c8",
   "metadata": {},
   "outputs": [
    {
     "data": {
      "text/plain": [
       "0.12626262626262627"
      ]
     },
     "execution_count": 34,
     "metadata": {},
     "output_type": "execute_result"
    }
   ],
   "source": [
    "A1 = (comb(2, 5) * comb(1, 5) * comb(3, 7)) / (comb(2, 8) * comb(4, 12))\n",
    "A1"
   ]
  },
  {
   "cell_type": "code",
   "execution_count": 35,
   "id": "d2ed57ba-6eb7-43c5-ab83-c483d1c8a0d8",
   "metadata": {},
   "outputs": [
    {
     "data": {
      "text/plain": [
       "0.22727272727272727"
      ]
     },
     "execution_count": 35,
     "metadata": {},
     "output_type": "execute_result"
    }
   ],
   "source": [
    "A2 = (comb(1, 5) * comb(1, 3) * comb(2, 5) * comb(2, 7)) / (comb(2, 8) * comb(4, 12))\n",
    "A2"
   ]
  },
  {
   "cell_type": "code",
   "execution_count": 36,
   "id": "600223b4-9b30-43e0-b22d-def231f4754d",
   "metadata": {},
   "outputs": [
    {
     "data": {
      "text/plain": [
       "0.015151515151515152"
      ]
     },
     "execution_count": 36,
     "metadata": {},
     "output_type": "execute_result"
    }
   ],
   "source": [
    "A3 =(comb(2, 3) * comb(3, 5) * comb(1, 7)) / (comb(2, 8) * comb(4, 12))\n",
    "A3"
   ]
  },
  {
   "cell_type": "code",
   "execution_count": 39,
   "id": "78036e17-178f-49dd-9b99-158599146002",
   "metadata": {},
   "outputs": [
    {
     "data": {
      "text/plain": [
       "0.3686868686868687"
      ]
     },
     "execution_count": 39,
     "metadata": {},
     "output_type": "execute_result"
    }
   ],
   "source": [
    "A = A1 + A2 + A3\n",
    "A"
   ]
  },
  {
   "cell_type": "markdown",
   "id": "ecff2e3b-bb6a-4b31-9a6c-1a55764d7d42",
   "metadata": {},
   "source": [
    "На соревновании по биатлону один из трех спортсменов стреляет и попадает в мишень. Вероятность попадания для первого спортсмена равна 0.9, для второго — 0.8, для третьего — 0.6. Найти вероятность того, что выстрел произведен: a). первым спортсменом б). вторым спортсменом в). третьим спортсменом."
   ]
  },
  {
   "cell_type": "code",
   "execution_count": 53,
   "id": "0c45df22-71b1-4016-b5f2-0b060d25cd63",
   "metadata": {},
   "outputs": [
    {
     "data": {
      "text/plain": [
       "0.7666666666666666"
      ]
     },
     "execution_count": 53,
     "metadata": {},
     "output_type": "execute_result"
    }
   ],
   "source": [
    "A = (1/3 * 0.9) + (1/3 * 0.8) + (1/3 * 0.6)\n",
    "A"
   ]
  },
  {
   "cell_type": "code",
   "execution_count": 54,
   "id": "990b81f6-4b91-4e10-81f4-28c9c5d2196f",
   "metadata": {},
   "outputs": [
    {
     "data": {
      "text/plain": [
       "0.391304347826087"
      ]
     },
     "execution_count": 54,
     "metadata": {},
     "output_type": "execute_result"
    }
   ],
   "source": [
    "A1 = (1/3 * 0.9)/A\n",
    "A1"
   ]
  },
  {
   "cell_type": "code",
   "execution_count": 55,
   "id": "6c9de828-0687-4f93-88f6-8cb21ae762ba",
   "metadata": {},
   "outputs": [
    {
     "data": {
      "text/plain": [
       "0.3478260869565218"
      ]
     },
     "execution_count": 55,
     "metadata": {},
     "output_type": "execute_result"
    }
   ],
   "source": [
    "A2 = (1/3 * 0.8)/A\n",
    "A2"
   ]
  },
  {
   "cell_type": "code",
   "execution_count": 56,
   "id": "c09b68a8-7688-4248-a411-205b39db5962",
   "metadata": {},
   "outputs": [
    {
     "data": {
      "text/plain": [
       "0.2608695652173913"
      ]
     },
     "execution_count": 56,
     "metadata": {},
     "output_type": "execute_result"
    }
   ],
   "source": [
    "A3 = (1/3 * 0.6)/A\n",
    "A3"
   ]
  },
  {
   "cell_type": "markdown",
   "id": "d547c7a9-4798-43be-ba51-be073b6a4668",
   "metadata": {},
   "source": [
    "В университет на факультеты A и B поступило равное количество студентов, а на факультет C студентов поступило столько же, сколько на A и B вместе. Вероятность того, что студент факультета A сдаст первую сессию, равна 0.8. Для студента факультета B эта вероятность равна 0.7, а для студента факультета C - 0.9. Студент сдал первую сессию. Какова вероятность, что он учится: a). на факультете A б). на факультете B в). на факультете C?"
   ]
  },
  {
   "cell_type": "code",
   "execution_count": 57,
   "id": "812588e4-3544-4c25-b4bf-39deac18c369",
   "metadata": {},
   "outputs": [
    {
     "data": {
      "text/plain": [
       "0.825"
      ]
     },
     "execution_count": 57,
     "metadata": {},
     "output_type": "execute_result"
    }
   ],
   "source": [
    "A = 1/4 * 0.8 + 1/4 * 0.7 + 1/2 * 0.9\n",
    "A"
   ]
  },
  {
   "cell_type": "code",
   "execution_count": 58,
   "id": "7612b895-3302-488d-a2b3-666988743398",
   "metadata": {},
   "outputs": [
    {
     "data": {
      "text/plain": [
       "0.24242424242424246"
      ]
     },
     "execution_count": 58,
     "metadata": {},
     "output_type": "execute_result"
    }
   ],
   "source": [
    "AA = (1/4 * 0.8)/A\n",
    "AA"
   ]
  },
  {
   "cell_type": "code",
   "execution_count": 59,
   "id": "72053cb5-1b77-4235-a959-5d085e862ae5",
   "metadata": {},
   "outputs": [
    {
     "data": {
      "text/plain": [
       "0.21212121212121213"
      ]
     },
     "execution_count": 59,
     "metadata": {},
     "output_type": "execute_result"
    }
   ],
   "source": [
    "AB = (1/4 * 0.7)/A\n",
    "AB"
   ]
  },
  {
   "cell_type": "code",
   "execution_count": 60,
   "id": "6842b367-5d8c-4473-b926-3f1035772fe8",
   "metadata": {},
   "outputs": [
    {
     "data": {
      "text/plain": [
       "0.5454545454545455"
      ]
     },
     "execution_count": 60,
     "metadata": {},
     "output_type": "execute_result"
    }
   ],
   "source": [
    "AC = (1/2 * 0.9)/A\n",
    "AC"
   ]
  },
  {
   "cell_type": "markdown",
   "id": "c8be11ef-8fcd-4f8c-9b86-1314ef39c0ef",
   "metadata": {},
   "source": [
    "Устройство состоит из трех деталей. Для первой детали вероятность выйти из строя в первый месяц равна 0.1, для второй - 0.2, для третьей - 0.25. Какова вероятность того, что в первый месяц выйдут из строя: а). все детали б). только две детали в). хотя бы одна деталь г). от одной до двух деталей?"
   ]
  },
  {
   "cell_type": "code",
   "execution_count": 62,
   "id": "6c8567ef-51a5-417f-8839-2116843c75a4",
   "metadata": {},
   "outputs": [
    {
     "data": {
      "text/plain": [
       "0.005000000000000001"
      ]
     },
     "execution_count": 62,
     "metadata": {},
     "output_type": "execute_result"
    }
   ],
   "source": [
    "A = 0.1 * 0.2 * 0.25\n",
    "A"
   ]
  },
  {
   "cell_type": "code",
   "execution_count": 63,
   "id": "a8260f60-0a6a-4936-a3e9-7f4e3d24e7b8",
   "metadata": {},
   "outputs": [
    {
     "data": {
      "text/plain": [
       "0.08000000000000002"
      ]
     },
     "execution_count": 63,
     "metadata": {},
     "output_type": "execute_result"
    }
   ],
   "source": [
    "B = (0.1 * 0.2 * 0.75) + (0.9 * 0.2 * 0.25) + (0.1 * 0.8 * 0.25)\n",
    "B"
   ]
  },
  {
   "cell_type": "code",
   "execution_count": 65,
   "id": "fedab03b-28e2-43bd-9acf-57494fa90857",
   "metadata": {},
   "outputs": [
    {
     "data": {
      "text/plain": [
       "0.45999999999999996"
      ]
     },
     "execution_count": 65,
     "metadata": {},
     "output_type": "execute_result"
    }
   ],
   "source": [
    "C = 1 - 0.9 * 0.8 * 0.75\n",
    "C"
   ]
  },
  {
   "cell_type": "code",
   "execution_count": null,
   "id": "1dcdbe41-c7f1-4902-8700-f0298c678e82",
   "metadata": {},
   "outputs": [],
   "source": [
    "D = "
   ]
  }
 ],
 "metadata": {
  "kernelspec": {
   "display_name": "Python 3 (ipykernel)",
   "language": "python",
   "name": "python3"
  },
  "language_info": {
   "codemirror_mode": {
    "name": "ipython",
    "version": 3
   },
   "file_extension": ".py",
   "mimetype": "text/x-python",
   "name": "python",
   "nbconvert_exporter": "python",
   "pygments_lexer": "ipython3",
   "version": "3.9.7"
  }
 },
 "nbformat": 4,
 "nbformat_minor": 5
}
