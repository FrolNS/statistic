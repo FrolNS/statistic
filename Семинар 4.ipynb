{
 "cells": [
  {
   "cell_type": "markdown",
   "id": "206093cd-a5af-416c-8036-9c7b5cbad882",
   "metadata": {},
   "source": [
    " Случайная непрерывная величина A имеет равномерное распределение на промежутке (200, 800].\n",
    "\n",
    "Найдите ее среднее значение и дисперсию."
   ]
  },
  {
   "cell_type": "code",
   "execution_count": 1,
   "id": "0cab9de5-61aa-4fbb-9cff-1c1f9585f383",
   "metadata": {},
   "outputs": [],
   "source": [
    "a = 200\n",
    "b = 800"
   ]
  },
  {
   "cell_type": "code",
   "execution_count": 2,
   "id": "34c4f886-8eda-4415-b87b-4695013d957f",
   "metadata": {},
   "outputs": [
    {
     "data": {
      "text/plain": [
       "500.0"
      ]
     },
     "execution_count": 2,
     "metadata": {},
     "output_type": "execute_result"
    }
   ],
   "source": [
    "M = (a + b)/2\n",
    "M"
   ]
  },
  {
   "cell_type": "code",
   "execution_count": 3,
   "id": "13b0125e-1f91-4f2a-ae2d-bf0994bad808",
   "metadata": {},
   "outputs": [
    {
     "data": {
      "text/plain": [
       "30000.0"
      ]
     },
     "execution_count": 3,
     "metadata": {},
     "output_type": "execute_result"
    }
   ],
   "source": [
    "D = (b - a)**2/12\n",
    "D"
   ]
  },
  {
   "cell_type": "markdown",
   "id": "c4be9547-d60a-48ed-8560-b9891c843271",
   "metadata": {},
   "source": [
    "О случайной непрерывной равномерно распределенной величине B известно, что ее дисперсия равна 0.2.\n",
    "\n",
    "Можно ли найти правую границу величины B и ее среднее значение зная, что левая граница равна 0.5?\n",
    "\n",
    "Если да, найдите ее."
   ]
  },
  {
   "cell_type": "code",
   "execution_count": 6,
   "id": "ec32b4ea-aa0e-437f-ab5c-af74b8d57de2",
   "metadata": {},
   "outputs": [],
   "source": [
    "import math"
   ]
  },
  {
   "cell_type": "code",
   "execution_count": 7,
   "id": "5c439cba-3ac2-4c8d-b529-83aa6aebf3a9",
   "metadata": {},
   "outputs": [],
   "source": [
    "D = 0.2\n",
    "a = 0.5"
   ]
  },
  {
   "cell_type": "code",
   "execution_count": 9,
   "id": "fff7bdec-5408-49fa-b8d7-fdb0fccd7a33",
   "metadata": {},
   "outputs": [
    {
     "data": {
      "text/plain": [
       "2.049193338482967"
      ]
     },
     "execution_count": 9,
     "metadata": {},
     "output_type": "execute_result"
    }
   ],
   "source": [
    "b = math.sqrt(0.2*12) + 0.5\n",
    "b"
   ]
  },
  {
   "cell_type": "code",
   "execution_count": 10,
   "id": "83c916ce-db27-49b9-95a6-aa1573bb11d7",
   "metadata": {},
   "outputs": [
    {
     "data": {
      "text/plain": [
       "1.2745966692414834"
      ]
     },
     "execution_count": 10,
     "metadata": {},
     "output_type": "execute_result"
    }
   ],
   "source": [
    "M = (a + b)/2\n",
    "M"
   ]
  },
  {
   "cell_type": "markdown",
   "id": "964d747f-5bc6-4a16-86f8-5f180995da3b",
   "metadata": {},
   "source": [
    "Непрерывная случайная величина X распределена нормально и задана плотностью распределения\n",
    "\n",
    "f(x) = (1 / (4 * sqrt(2pi))) * exp((-(x+2)**2) / 32)\n",
    "\n",
    "Найдите:\n",
    "\n",
    "а). M(X)\n",
    "\n",
    "б). D(X)\n",
    "\n",
    "в). std(X) (среднее квадратичное отклонение)"
   ]
  },
  {
   "cell_type": "code",
   "execution_count": 12,
   "id": "b883f3cd-06c8-4b56-9d40-3c1091691476",
   "metadata": {},
   "outputs": [],
   "source": [
    "M = -2\n",
    "D = 16\n",
    "S = 4"
   ]
  },
  {
   "cell_type": "markdown",
   "id": "b2d1e30c-695b-42c4-bf8c-5d0d3bc62e4d",
   "metadata": {},
   "source": [
    "Рост взрослого населения города X имеет нормальное распределение.\n",
    "\n",
    "Причем, средний рост равен 174 см, а среднее квадратичное отклонение равно 8 см.\n",
    "\n",
    "Какова вероятность того, что случайным образом выбранный взрослый человек имеет рост:\n",
    "\n",
    "a). больше 182 см\n",
    "\n",
    "b). больше 190 см\n",
    "\n",
    "c). от 166 см до 190 см\n",
    "\n",
    "d). от 166 см до 182 см\n",
    "\n",
    "e). от 158 см до 190 см\n",
    "\n",
    "f). не выше 150 см или не ниже 190 см\n",
    "\n",
    "g). не выше 150 см или не ниже 198 см\n",
    "\n",
    "h). ниже 166 см."
   ]
  },
  {
   "cell_type": "markdown",
   "id": "c25331e5-3897-472a-b383-7b264b6448ce",
   "metadata": {},
   "source": [
    "a). больше 182 см"
   ]
  },
  {
   "cell_type": "code",
   "execution_count": null,
   "id": "8753307f-68dd-4f90-a0b2-bf785e4f4ab7",
   "metadata": {},
   "outputs": [
    {
     "data": {
      "text/plain": [
       "0.15869999999999995"
      ]
     },
     "execution_count": 21,
     "metadata": {},
     "output_type": "execute_result"
    }
   ],
   "source": [
    "a = (182 - 174) / 8\n",
    "za = 0.8413\n",
    "pa = 1 - za\n",
    "pa"
   ]
  },
  {
   "cell_type": "markdown",
   "id": "ac296056-7794-43a2-b0d8-d02385f973c5",
   "metadata": {},
   "source": [
    "b). больше 190 см"
   ]
  },
  {
   "cell_type": "code",
   "execution_count": null,
   "id": "0125d92a-eee0-4670-b64f-eef7af480f8d",
   "metadata": {},
   "outputs": [
    {
     "data": {
      "text/plain": [
       "0.022800000000000042"
      ]
     },
     "execution_count": 22,
     "metadata": {},
     "output_type": "execute_result"
    }
   ],
   "source": [
    "b = (190 - 174) / 8\n",
    "zb = 0.9772\n",
    "pb = 1 - zb\n",
    "pb"
   ]
  },
  {
   "cell_type": "markdown",
   "id": "14564507-6acb-4f47-920b-c64851b2af18",
   "metadata": {},
   "source": [
    "c). от 166 см до 190 см"
   ]
  },
  {
   "cell_type": "code",
   "execution_count": 23,
   "id": "0d8500d7-be10-4c84-8589-dfddbf33760f",
   "metadata": {},
   "outputs": [
    {
     "data": {
      "text/plain": [
       "0.8185"
      ]
     },
     "execution_count": 23,
     "metadata": {},
     "output_type": "execute_result"
    }
   ],
   "source": [
    "c = (166 - 174) / 8\n",
    "zc = 0.1587\n",
    "pc = zb - zc\n",
    "pc"
   ]
  },
  {
   "cell_type": "markdown",
   "id": "2f5e8025-8c71-4bec-b101-b0a5ed9f875b",
   "metadata": {},
   "source": [
    "d). от 166 см до 182 см"
   ]
  },
  {
   "cell_type": "code",
   "execution_count": 24,
   "id": "bfdd40ed-1d01-4fc0-9079-664b3b78dcb7",
   "metadata": {},
   "outputs": [
    {
     "data": {
      "text/plain": [
       "0.6826000000000001"
      ]
     },
     "execution_count": 24,
     "metadata": {},
     "output_type": "execute_result"
    }
   ],
   "source": [
    "pd = za - zc\n",
    "pd"
   ]
  },
  {
   "cell_type": "markdown",
   "id": "38139cef-4964-439b-a1bd-85eaf916de15",
   "metadata": {},
   "source": [
    "e). от 158 см до 190 см"
   ]
  },
  {
   "cell_type": "code",
   "execution_count": 26,
   "id": "144219a9-2e6d-4193-916f-18b3807e08d6",
   "metadata": {},
   "outputs": [
    {
     "data": {
      "text/plain": [
       "0.9543999999999999"
      ]
     },
     "execution_count": 26,
     "metadata": {},
     "output_type": "execute_result"
    }
   ],
   "source": [
    "e = (158 - 174) / 8\n",
    "ze = 0.0228\n",
    "pe = zb - ze\n",
    "pe"
   ]
  },
  {
   "cell_type": "markdown",
   "id": "5118f768-54b5-4584-8d41-d1af226d7d1c",
   "metadata": {},
   "source": [
    "f). не выше 150 см или не ниже 190 см"
   ]
  },
  {
   "cell_type": "code",
   "execution_count": 28,
   "id": "a0408bf9-32ba-4cb4-ad73-0c10ab0ed9c0",
   "metadata": {},
   "outputs": [
    {
     "data": {
      "text/plain": [
       "0.02420000000000004"
      ]
     },
     "execution_count": 28,
     "metadata": {},
     "output_type": "execute_result"
    }
   ],
   "source": [
    "f = (150 - 174) / 8\n",
    "zf = 0.0014\n",
    "pf = 0.0014 + pb\n",
    "pf"
   ]
  },
  {
   "cell_type": "markdown",
   "id": "c4302f8e-a989-4446-81ae-5513519d78f6",
   "metadata": {},
   "source": [
    "g). не выше 150 см или не ниже 198 см"
   ]
  },
  {
   "cell_type": "code",
   "execution_count": 29,
   "id": "83160ded-70ad-4e26-b3ce-e0c1e94d30b5",
   "metadata": {},
   "outputs": [
    {
     "data": {
      "text/plain": [
       "0.002799999999999957"
      ]
     },
     "execution_count": 29,
     "metadata": {},
     "output_type": "execute_result"
    }
   ],
   "source": [
    "g = (198 - 174) / 8\n",
    "zg = 1 - 0.9986\n",
    "pg = zf + zg\n",
    "pg"
   ]
  },
  {
   "cell_type": "markdown",
   "id": "88c52f4d-c722-45c7-99c8-9418af2fe44d",
   "metadata": {},
   "source": [
    "h). ниже 166 см."
   ]
  },
  {
   "cell_type": "code",
   "execution_count": 30,
   "id": "8d777c0e-e6e6-4419-89ec-2c8317bbb876",
   "metadata": {},
   "outputs": [
    {
     "data": {
      "text/plain": [
       "0.1587"
      ]
     },
     "execution_count": 30,
     "metadata": {},
     "output_type": "execute_result"
    }
   ],
   "source": [
    "ph = zc\n",
    "ph"
   ]
  },
  {
   "cell_type": "markdown",
   "id": "dc41947c-a2e0-42f0-9434-64049efeeeff",
   "metadata": {},
   "source": [
    " На сколько сигм (средних квадратичных отклонений) отклоняется рост человека, равный 190 см, от математического ожидания роста в популяции, в которой M(X) = 178 см и D(X) = 25 кв.см?"
   ]
  },
  {
   "cell_type": "code",
   "execution_count": 31,
   "id": "a9f84cac-8efe-4837-b99a-cc645ba4bc33",
   "metadata": {},
   "outputs": [
    {
     "data": {
      "text/plain": [
       "2.4"
      ]
     },
     "execution_count": 31,
     "metadata": {},
     "output_type": "execute_result"
    }
   ],
   "source": [
    "sigma = math.sqrt(25)\n",
    "s = (190 - 178) / sigma\n",
    "s"
   ]
  },
  {
   "cell_type": "code",
   "execution_count": null,
   "id": "a6d8a2d7-0ecb-4284-a384-e11b6bfc467a",
   "metadata": {},
   "outputs": [],
   "source": []
  }
 ],
 "metadata": {
  "kernelspec": {
   "display_name": "Python 3 (ipykernel)",
   "language": "python",
   "name": "python3"
  },
  "language_info": {
   "codemirror_mode": {
    "name": "ipython",
    "version": 3
   },
   "file_extension": ".py",
   "mimetype": "text/x-python",
   "name": "python",
   "nbconvert_exporter": "python",
   "pygments_lexer": "ipython3",
   "version": "3.9.7"
  }
 },
 "nbformat": 4,
 "nbformat_minor": 5
}
