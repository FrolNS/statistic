{
 "cells": [
  {
   "cell_type": "markdown",
   "id": "ad2f7800",
   "metadata": {},
   "source": [
    "1. Даны значения величины заработной платы заемщиков банка (zp) и значения их поведенческого кредитного скоринга (ks):\n",
    "\n",
    "zp = [35, 45, 190, 200, 40, 70, 54, 150, 120, 110],\n",
    "\n",
    "ks = [401, 574, 874, 919, 459, 739, 653, 902, 746, 832].\n",
    "\n",
    "Найдите ковариацию этих двух величин с помощью элементарных действий, а затем с помощью функции cov из numpy\n",
    "\n",
    "Полученные значения должны быть равны.\n",
    "\n",
    "Найдите коэффициент корреляции Пирсона с помощью ковариации и среднеквадратичных отклонений двух признаков, а затем с использованием функций из библиотек numpy и pandas.\n",
    "\n"
   ]
  },
  {
   "cell_type": "code",
   "execution_count": 3,
   "id": "1eb4ddb4",
   "metadata": {},
   "outputs": [],
   "source": [
    "import numpy as np\n",
    "import scipy.stats as stats"
   ]
  },
  {
   "cell_type": "code",
   "execution_count": 4,
   "id": "a86647f3",
   "metadata": {},
   "outputs": [],
   "source": [
    "zp = np.array([35, 45, 190, 200, 40, 70, 54, 150, 120, 110])\n",
    "ks = np.array([401, 574, 874, 919, 459, 739, 653, 902, 746, 832])"
   ]
  },
  {
   "cell_type": "code",
   "execution_count": 5,
   "id": "094437ef",
   "metadata": {},
   "outputs": [
    {
     "data": {
      "text/plain": [
       "9157.839999999997"
      ]
     },
     "execution_count": 5,
     "metadata": {},
     "output_type": "execute_result"
    }
   ],
   "source": [
    "cov = np.mean(zp * ks) - np.mean(zp) * np.mean(ks)\n",
    "cov"
   ]
  },
  {
   "cell_type": "code",
   "execution_count": 8,
   "id": "c9b209d9",
   "metadata": {},
   "outputs": [
    {
     "data": {
      "text/plain": [
       "array([[ 3494.64,  9157.84],\n",
       "       [ 9157.84, 30468.89]])"
      ]
     },
     "execution_count": 8,
     "metadata": {},
     "output_type": "execute_result"
    }
   ],
   "source": [
    "np.cov(zp, ks, ddof = 0)"
   ]
  },
  {
   "cell_type": "code",
   "execution_count": 17,
   "id": "6ad30268",
   "metadata": {},
   "outputs": [],
   "source": [
    "ss = np.std(zp)"
   ]
  },
  {
   "cell_type": "code",
   "execution_count": 18,
   "id": "e260ee3a",
   "metadata": {},
   "outputs": [],
   "source": [
    "ss1 = np.std(ks)"
   ]
  },
  {
   "cell_type": "code",
   "execution_count": 19,
   "id": "2185956f",
   "metadata": {},
   "outputs": [
    {
     "data": {
      "text/plain": [
       "0.8874900920739158"
      ]
     },
     "execution_count": 19,
     "metadata": {},
     "output_type": "execute_result"
    }
   ],
   "source": [
    "piers = cov/(ss * ss1)\n",
    "piers"
   ]
  },
  {
   "cell_type": "code",
   "execution_count": 20,
   "id": "767f8aae",
   "metadata": {},
   "outputs": [
    {
     "data": {
      "text/plain": [
       "(0.8874900920739164, 0.0006107546587257491)"
      ]
     },
     "execution_count": 20,
     "metadata": {},
     "output_type": "execute_result"
    }
   ],
   "source": [
    "stats.pearsonr(zp, ks)"
   ]
  },
  {
   "cell_type": "code",
   "execution_count": 21,
   "id": "0f189234",
   "metadata": {},
   "outputs": [
    {
     "data": {
      "text/plain": [
       "array([[1.        , 0.88749009],\n",
       "       [0.88749009, 1.        ]])"
      ]
     },
     "execution_count": 21,
     "metadata": {},
     "output_type": "execute_result"
    }
   ],
   "source": [
    "np.corrcoef(zp, ks)"
   ]
  },
  {
   "cell_type": "markdown",
   "id": "725b96ed",
   "metadata": {},
   "source": [
    "2. Измерены значения IQ выборки студентов,\n",
    "\n",
    "обучающихся в местных технических вузах:\n",
    "\n",
    "131, 125, 115, 122, 131, 115, 107, 99, 125, 111.\n",
    "\n",
    "Известно, что в генеральной совокупности IQ распределен нормально.\n",
    "\n",
    "Найдите доверительный интервал для математического ожидания с надежностью 0.95."
   ]
  },
  {
   "cell_type": "code",
   "execution_count": 22,
   "id": "8c6587a6",
   "metadata": {},
   "outputs": [],
   "source": [
    "iq = np.array([131, 125, 115, 122, 131, 115, 107, 99, 125, 111])\n",
    "alpha1 = 0.05"
   ]
  },
  {
   "cell_type": "code",
   "execution_count": 23,
   "id": "14f3fdba",
   "metadata": {},
   "outputs": [
    {
     "data": {
      "text/plain": [
       "118.1"
      ]
     },
     "execution_count": 23,
     "metadata": {},
     "output_type": "execute_result"
    }
   ],
   "source": [
    "mean_iq = np.mean(iq)\n",
    "mean_iq"
   ]
  },
  {
   "cell_type": "code",
   "execution_count": 24,
   "id": "56c1fccf",
   "metadata": {},
   "outputs": [
    {
     "data": {
      "text/plain": [
       "111.21111111111111"
      ]
     },
     "execution_count": 24,
     "metadata": {},
     "output_type": "execute_result"
    }
   ],
   "source": [
    "D = np.var(iq, ddof = 1)\n",
    "D"
   ]
  },
  {
   "cell_type": "code",
   "execution_count": 26,
   "id": "9f6abafb",
   "metadata": {},
   "outputs": [
    {
     "data": {
      "text/plain": [
       "2.2621571627409915"
      ]
     },
     "execution_count": 26,
     "metadata": {},
     "output_type": "execute_result"
    }
   ],
   "source": [
    "t = stats.t.ppf(0.975, len(iq) - 1)\n",
    "t"
   ]
  },
  {
   "cell_type": "code",
   "execution_count": 32,
   "id": "f5edcfde",
   "metadata": {},
   "outputs": [
    {
     "data": {
      "text/plain": [
       "110.55608365158724"
      ]
     },
     "execution_count": 32,
     "metadata": {},
     "output_type": "execute_result"
    }
   ],
   "source": [
    "x1 = mean_iq - (t * np.sqrt(D/len(iq)))\n",
    "x1\n",
    "                "
   ]
  },
  {
   "cell_type": "code",
   "execution_count": 33,
   "id": "1be67d22",
   "metadata": {},
   "outputs": [
    {
     "data": {
      "text/plain": [
       "125.64391634841274"
      ]
     },
     "execution_count": 33,
     "metadata": {},
     "output_type": "execute_result"
    }
   ],
   "source": [
    "x2 = mean_iq + (t * np.sqrt(D/len(iq)))\n",
    "x2"
   ]
  },
  {
   "cell_type": "code",
   "execution_count": 34,
   "id": "92380e34",
   "metadata": {},
   "outputs": [
    {
     "data": {
      "text/plain": [
       "'[110.55608365158724;125.64391634841274]'"
      ]
     },
     "execution_count": 34,
     "metadata": {},
     "output_type": "execute_result"
    }
   ],
   "source": [
    "f'[{x1};{x2}]'"
   ]
  },
  {
   "cell_type": "markdown",
   "id": "1890c70b",
   "metadata": {},
   "source": [
    "3. Известно, что рост футболистов в сборной распределен нормально с дисперсией генеральной совокупности, равной 25 кв.см. Объем выборки равен 27, среднее выборочное составляет 174.2. Найдите доверительный интервал для математического ожидания с надежностью 0.95."
   ]
  },
  {
   "cell_type": "code",
   "execution_count": 35,
   "id": "5144713d",
   "metadata": {},
   "outputs": [],
   "source": [
    "n = 27\n",
    "var = 25\n",
    "mean = 174.2\n",
    "alpha2 = 0.05"
   ]
  },
  {
   "cell_type": "code",
   "execution_count": 36,
   "id": "342f4bf3",
   "metadata": {},
   "outputs": [
    {
     "data": {
      "text/plain": [
       "5.0"
      ]
     },
     "execution_count": 36,
     "metadata": {},
     "output_type": "execute_result"
    }
   ],
   "source": [
    "std = np.sqrt(var)\n",
    "std"
   ]
  },
  {
   "cell_type": "code",
   "execution_count": 42,
   "id": "a57a067f",
   "metadata": {},
   "outputs": [],
   "source": [
    "z = stats.norm.ppf(0.975)"
   ]
  },
  {
   "cell_type": "code",
   "execution_count": 43,
   "id": "41188d8f",
   "metadata": {},
   "outputs": [
    {
     "data": {
      "text/plain": [
       "172.3140237765397"
      ]
     },
     "execution_count": 43,
     "metadata": {},
     "output_type": "execute_result"
    }
   ],
   "source": [
    "x1 = mean - (z * (std/np.sqrt(n)))\n",
    "x1"
   ]
  },
  {
   "cell_type": "code",
   "execution_count": 44,
   "id": "2d8b8f5a",
   "metadata": {},
   "outputs": [
    {
     "data": {
      "text/plain": [
       "176.08597622346028"
      ]
     },
     "execution_count": 44,
     "metadata": {},
     "output_type": "execute_result"
    }
   ],
   "source": [
    "x2 = mean + (z * (std/np.sqrt(n)))\n",
    "x2"
   ]
  },
  {
   "cell_type": "code",
   "execution_count": 45,
   "id": "613b6a3b",
   "metadata": {},
   "outputs": [
    {
     "data": {
      "text/plain": [
       "'[172.3140237765397; 176.08597622346028]'"
      ]
     },
     "execution_count": 45,
     "metadata": {},
     "output_type": "execute_result"
    }
   ],
   "source": [
    "f'[{x1}; {x2}]'"
   ]
  },
  {
   "cell_type": "code",
   "execution_count": null,
   "id": "39f0e5aa",
   "metadata": {},
   "outputs": [],
   "source": []
  }
 ],
 "metadata": {
  "kernelspec": {
   "display_name": "Python 3 (ipykernel)",
   "language": "python",
   "name": "python3"
  },
  "language_info": {
   "codemirror_mode": {
    "name": "ipython",
    "version": 3
   },
   "file_extension": ".py",
   "mimetype": "text/x-python",
   "name": "python",
   "nbconvert_exporter": "python",
   "pygments_lexer": "ipython3",
   "version": "3.8.2"
  }
 },
 "nbformat": 4,
 "nbformat_minor": 5
}
